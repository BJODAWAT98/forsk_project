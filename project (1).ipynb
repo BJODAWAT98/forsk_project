{
  "nbformat": 4,
  "nbformat_minor": 0,
  "metadata": {
    "colab": {
      "name": "project.ipynb",
      "version": "0.3.2",
      "provenance": [],
      "collapsed_sections": []
    },
    "kernelspec": {
      "name": "python3",
      "display_name": "Python 3"
    }
  },
  "cells": [
    {
      "cell_type": "code",
      "metadata": {
        "id": "qGvCBNWWtzzt",
        "colab_type": "code",
        "outputId": "9eb00415-d83f-486f-8a91-e097fa574c1d",
        "colab": {
          "base_uri": "https://localhost:8080/",
          "height": 122
        }
      },
      "source": [
        "from google.colab import drive\n",
        "drive.mount('/content/drive')"
      ],
      "execution_count": 1,
      "outputs": [
        {
          "output_type": "stream",
          "text": [
            "Go to this URL in a browser: https://accounts.google.com/o/oauth2/auth?client_id=947318989803-6bn6qk8qdgf4n4g3pfee6491hc0brc4i.apps.googleusercontent.com&redirect_uri=urn%3Aietf%3Awg%3Aoauth%3A2.0%3Aoob&scope=email%20https%3A%2F%2Fwww.googleapis.com%2Fauth%2Fdocs.test%20https%3A%2F%2Fwww.googleapis.com%2Fauth%2Fdrive%20https%3A%2F%2Fwww.googleapis.com%2Fauth%2Fdrive.photos.readonly%20https%3A%2F%2Fwww.googleapis.com%2Fauth%2Fpeopleapi.readonly&response_type=code\n",
            "\n",
            "Enter your authorization code:\n",
            "··········\n",
            "Mounted at /content/drive\n"
          ],
          "name": "stdout"
        }
      ]
    },
    {
      "cell_type": "code",
      "metadata": {
        "id": "NBIw1-IS4e6G",
        "colab_type": "code",
        "outputId": "4268a743-ef21-4680-9af6-35a1e025eaea",
        "colab": {
          "base_uri": "https://localhost:8080/",
          "height": 34
        }
      },
      "source": [
        "import os\n",
        "os.getcwd()"
      ],
      "execution_count": 2,
      "outputs": [
        {
          "output_type": "execute_result",
          "data": {
            "text/plain": [
              "'/content'"
            ]
          },
          "metadata": {
            "tags": []
          },
          "execution_count": 2
        }
      ]
    },
    {
      "cell_type": "code",
      "metadata": {
        "id": "z1Q9K4Fk4xjM",
        "colab_type": "code",
        "colab": {}
      },
      "source": [
        "os.chdir('/content/drive/My Drive/forsk deeplearning')"
      ],
      "execution_count": 0,
      "outputs": []
    },
    {
      "cell_type": "code",
      "metadata": {
        "id": "oM3Jb1CA44Ic",
        "colab_type": "code",
        "colab": {}
      },
      "source": [
        "import pandas as pd\n",
        "import numpy as np\n",
        "import matplotlib.pyplot as plt"
      ],
      "execution_count": 0,
      "outputs": []
    },
    {
      "cell_type": "code",
      "metadata": {
        "id": "28CS_ik-5OOC",
        "colab_type": "code",
        "colab": {}
      },
      "source": [
        "\n",
        "data=pd.read_csv('mbti_1.csv')"
      ],
      "execution_count": 0,
      "outputs": []
    },
    {
      "cell_type": "code",
      "metadata": {
        "id": "HPpsr8dHSkqR",
        "colab_type": "code",
        "colab": {}
      },
      "source": [
        "data[\"list_messages\"]=data[\"posts\"].apply(lambda x: x.strip().split(\"|||\"))"
      ],
      "execution_count": 0,
      "outputs": []
    },
    {
      "cell_type": "code",
      "metadata": {
        "id": "U8ETyhLBobhw",
        "colab_type": "code",
        "outputId": "5b7562ce-5c58-4bbb-89f6-762464b5066e",
        "colab": {
          "base_uri": "https://localhost:8080/",
          "height": 204
        }
      },
      "source": [
        "data.head()"
      ],
      "execution_count": 7,
      "outputs": [
        {
          "output_type": "execute_result",
          "data": {
            "text/html": [
              "<div>\n",
              "<style scoped>\n",
              "    .dataframe tbody tr th:only-of-type {\n",
              "        vertical-align: middle;\n",
              "    }\n",
              "\n",
              "    .dataframe tbody tr th {\n",
              "        vertical-align: top;\n",
              "    }\n",
              "\n",
              "    .dataframe thead th {\n",
              "        text-align: right;\n",
              "    }\n",
              "</style>\n",
              "<table border=\"1\" class=\"dataframe\">\n",
              "  <thead>\n",
              "    <tr style=\"text-align: right;\">\n",
              "      <th></th>\n",
              "      <th>type</th>\n",
              "      <th>posts</th>\n",
              "      <th>list_messages</th>\n",
              "    </tr>\n",
              "  </thead>\n",
              "  <tbody>\n",
              "    <tr>\n",
              "      <th>0</th>\n",
              "      <td>INFJ</td>\n",
              "      <td>'http://www.youtube.com/watch?v=qsXHcwe3krw|||...</td>\n",
              "      <td>['http://www.youtube.com/watch?v=qsXHcwe3krw, ...</td>\n",
              "    </tr>\n",
              "    <tr>\n",
              "      <th>1</th>\n",
              "      <td>ENTP</td>\n",
              "      <td>'I'm finding the lack of me in these posts ver...</td>\n",
              "      <td>['I'm finding the lack of me in these posts ve...</td>\n",
              "    </tr>\n",
              "    <tr>\n",
              "      <th>2</th>\n",
              "      <td>INTP</td>\n",
              "      <td>'Good one  _____   https://www.youtube.com/wat...</td>\n",
              "      <td>['Good one  _____   https://www.youtube.com/wa...</td>\n",
              "    </tr>\n",
              "    <tr>\n",
              "      <th>3</th>\n",
              "      <td>INTJ</td>\n",
              "      <td>'Dear INTP,   I enjoyed our conversation the o...</td>\n",
              "      <td>['Dear INTP,   I enjoyed our conversation the ...</td>\n",
              "    </tr>\n",
              "    <tr>\n",
              "      <th>4</th>\n",
              "      <td>ENTJ</td>\n",
              "      <td>'You're fired.|||That's another silly misconce...</td>\n",
              "      <td>['You're fired., That's another silly misconce...</td>\n",
              "    </tr>\n",
              "  </tbody>\n",
              "</table>\n",
              "</div>"
            ],
            "text/plain": [
              "   type  ...                                      list_messages\n",
              "0  INFJ  ...  ['http://www.youtube.com/watch?v=qsXHcwe3krw, ...\n",
              "1  ENTP  ...  ['I'm finding the lack of me in these posts ve...\n",
              "2  INTP  ...  ['Good one  _____   https://www.youtube.com/wa...\n",
              "3  INTJ  ...  ['Dear INTP,   I enjoyed our conversation the ...\n",
              "4  ENTJ  ...  ['You're fired., That's another silly misconce...\n",
              "\n",
              "[5 rows x 3 columns]"
            ]
          },
          "metadata": {
            "tags": []
          },
          "execution_count": 7
        }
      ]
    },
    {
      "cell_type": "code",
      "metadata": {
        "id": "XBZ7uVfeoau6",
        "colab_type": "code",
        "colab": {}
      },
      "source": [
        ""
      ],
      "execution_count": 0,
      "outputs": []
    },
    {
      "cell_type": "code",
      "metadata": {
        "id": "aGBKkY-MHoO8",
        "colab_type": "code",
        "outputId": "f3dc09c9-5466-4eb5-8f49-9e0e30d4851d",
        "colab": {
          "base_uri": "https://localhost:8080/",
          "height": 85
        }
      },
      "source": [
        "import re\n",
        "import nltk\n",
        "nltk.download(\"stopwords\")\n",
        "from nltk.corpus import stopwords\n",
        "from nltk.stem.wordnet import WordNetLemmatizer\n",
        "list_stopwords=list(stopwords.words('english'))+[word.lower() for word in list(data.type.unique())]\n",
        "nltk.download ('wordnet')\n",
        "from nltk.corpus import wordnet\n",
        "from nltk.stem import WordNetLemmatizer\n",
        "from nltk.stem.porter import PorterStemmer\n",
        "       "
      ],
      "execution_count": 8,
      "outputs": [
        {
          "output_type": "stream",
          "text": [
            "[nltk_data] Downloading package stopwords to /root/nltk_data...\n",
            "[nltk_data]   Unzipping corpora/stopwords.zip.\n",
            "[nltk_data] Downloading package wordnet to /root/nltk_data...\n",
            "[nltk_data]   Unzipping corpora/wordnet.zip.\n"
          ],
          "name": "stdout"
        }
      ]
    },
    {
      "cell_type": "code",
      "metadata": {
        "id": "suC8cHGTTkUl",
        "colab_type": "code",
        "colab": {}
      },
      "source": [
        "def remove_url(message_list):\n",
        "  res=\"\"\n",
        "  for message in message_list:\n",
        "    if \"http\" in message:\n",
        "      l=re.findall(r\"\\b(?:https?://)?(?:(?i:[1-9a-z]+\\.))[^\\s,]+\\b\",message)\n",
        "      for link in l:\n",
        "        message=message.replace(link,\"\")\n",
        "      res=res+\" \"+message.strip()\n",
        "    else:\n",
        "      res=res+message.strip()\n",
        "   \n",
        " \n",
        "  res=re.sub('[^a-zA-Z\\s]',\" \",res)\n",
        "  res=res.lower()\n",
        "  res=res.split()\n",
        "  res = [word for word in res if not word in list_stopwords]\n",
        "  wl = PorterStemmer()\n",
        "  res = [wl.stem(word) for word in res]\n",
        "  res=\" \".join(res)  \n",
        "  return(res)"
      ],
      "execution_count": 0,
      "outputs": []
    },
    {
      "cell_type": "code",
      "metadata": {
        "id": "ySGFUZQxOhjQ",
        "colab_type": "code",
        "colab": {}
      },
      "source": [
        "data[\"paragraph\"]=data.list_messages.apply(remove_url)"
      ],
      "execution_count": 0,
      "outputs": []
    },
    {
      "cell_type": "code",
      "metadata": {
        "id": "qnpSxwEZNYg8",
        "colab_type": "code",
        "colab": {}
      },
      "source": [
        ""
      ],
      "execution_count": 0,
      "outputs": []
    },
    {
      "cell_type": "code",
      "metadata": {
        "id": "33kQF2haWvDr",
        "colab_type": "code",
        "colab": {}
      },
      "source": [
        "map1 = {\"I\": 0, \"E\": 1}\n",
        "map2 = {\"N\": 0, \"S\": 1}\n",
        "map3 = {\"T\": 0, \"F\": 1}\n",
        "map4 = {\"J\": 0, \"P\": 1}\n",
        "data['I-E'] = data['type'].astype(str).str[0]\n",
        "data['I-E'] = data['I-E'].map(map1)\n",
        "data['N-S'] = data['type'].astype(str).str[1]\n",
        "data['N-S'] = data['N-S'].map(map2)\n",
        "data['T-F'] = data['type'].astype(str).str[2]\n",
        "data['T-F'] = data['T-F'].map(map3)\n",
        "data['J-P'] = data['type'].astype(str).str[3]\n",
        "data['J-P'] = data['J-P'].map(map4)"
      ],
      "execution_count": 0,
      "outputs": []
    },
    {
      "cell_type": "code",
      "metadata": {
        "id": "6Mckbm3fZbCc",
        "colab_type": "code",
        "outputId": "e965d218-7583-4fc6-b922-1cfe15ea3975",
        "colab": {
          "base_uri": "https://localhost:8080/",
          "height": 71
        }
      },
      "source": [
        "print(data.type[5678])\n",
        "print(data.paragraph[5678])\n"
      ],
      "execution_count": 11,
      "outputs": [
        {
          "output_type": "stream",
          "text": [
            "INFP\n",
            "facerol everi singl time someon say get better ye mayb got better mean alway get better reason hear peopl say get better shinji evangelion hrm big secret realli call intellig wise creativ think world stupid sub par thing said insan realli must one two never realli experienc call high high probabl good health ehh like whole point suicid end life want want end live want elimin bad enjoy live enough go well never realli impli infp suicid anyth wonder correl depresson suicid infp well yeah alreadi got answer well say agre subconsci want get better get wors actual know know pretti mess head haha like mental thank haha hmm interest yeash would cool could go detail shhhhi bad figur haha tell talk someon type certainli experienc enough argu think ridicul go thread least one person suicid tendenc proceed say neg thing peopl like lmfao post enjoy put peopl get make peopl feel like shit oaren infj rarest yeah talk certain peopl help peopl want talk help word make feel wors peopl good wow thought somehow good mood post could push back would one think intent wow holi crap read wow thank share stori also overdos sleep pill never got medic attent never realli let anyon know hope happen well alright moment right tend sway uncontrol part uhhm die tomorrow suicid realli mayb right mayb wrong particularli believ sort spiritu thing like yeah like even want live complet suppos mean mom still aliv might abl fin still ask question dad realli cours work though know kind hmm make lot sens case exactli right especi prone interpret deeper issu intern yeah cool thank hell terribl school inher bad focus paid attent could thing rel easili problem focu ok adam eh alway felt relat kurt lot whole reason wrote naught minut ago learn got think suicid stuff anyway thank hey guy make post kind curiou guy think infp suicid infp ever talk suicid tri kill type perfection type help type imag focu type individu type think realiz post thread anyth repeat thing alreadi know wast time like life guess anyway thank tell guy point live enjoy life love will chang quit hard worri worri becom part inner alright even confus done know read confus guess dumb understand still go insight thank sigh truli want know incred depress mani year feel like entir life slow constant regress seem pull ship alright well decid googl search differ troubl understand function mean spent good hour well herein lie problem absolut terribl choos function fit read feel like relat equal feel stuck unabl bluh everyth confus overload info feel like give right sick take test annoy read less understand tire alright read stuff mention link though see link anywher x read cognit function forum bit read sticki say take serious find thing relat seem relat quit bit better rest anyway took test differ websit got dreamer tempera nf visionari primari function introvert feel popul male femal first test took differ websit told assum read relat close confus know alright later thank help alright primari mode live focus intern deal thing accord feel fit person valu alright post go long go go everyth personalitypag say start text bold personalitypag regular say think know enough make decis mean read plenti thing think enough knowledg tell one relat would say strongli relat fi peopl typic good pick emot vibe tone voic word choic other often know read sticki cognit function thread feel like relat function one seem cloudi alright go post questionnair guy read bit cognit function realli fulli understand intricaci think hmm actual well confus thought read summari websit took test said took differ one\n"
          ],
          "name": "stdout"
        }
      ]
    },
    {
      "cell_type": "code",
      "metadata": {
        "id": "78Y3xxxMZ1-v",
        "colab_type": "code",
        "colab": {}
      },
      "source": [
        "import string\n",
        "def text_process(mess):\n",
        "    nopunc = [char for char in mess if char not in string.punctuation]\n",
        "    nopunc = ''.join(nopunc)\n",
        "    \n",
        "    return [word for word in nopunc.split()]"
      ],
      "execution_count": 0,
      "outputs": []
    },
    {
      "cell_type": "code",
      "metadata": {
        "id": "yq_BJKtAZrum",
        "colab_type": "code",
        "colab": {}
      },
      "source": [
        "data['cbd']=data.paragraph"
      ],
      "execution_count": 0,
      "outputs": []
    },
    {
      "cell_type": "code",
      "metadata": {
        "id": "6HeBtymRHB_s",
        "colab_type": "code",
        "colab": {}
      },
      "source": [
        "from sklearn.feature_extraction.text import CountVectorizer"
      ],
      "execution_count": 0,
      "outputs": []
    },
    {
      "cell_type": "code",
      "metadata": {
        "id": "zDR4fK-pIGY1",
        "colab_type": "code",
        "colab": {}
      },
      "source": [
        "bow_transformer = CountVectorizer(analyzer=\"word\",max_features=1500).fit(data['cbd'])\n",
        "                                  \n",
        "\n"
      ],
      "execution_count": 0,
      "outputs": []
    },
    {
      "cell_type": "code",
      "metadata": {
        "id": "59z-XCYfIoPA",
        "colab_type": "code",
        "outputId": "c3ffb1f7-bf87-46d1-f79d-33573059b6fa",
        "colab": {
          "base_uri": "https://localhost:8080/",
          "height": 34
        }
      },
      "source": [
        "print(len(bow_transformer.vocabulary_))"
      ],
      "execution_count": 0,
      "outputs": [
        {
          "output_type": "stream",
          "text": [
            "1500\n"
          ],
          "name": "stdout"
        }
      ]
    },
    {
      "cell_type": "code",
      "metadata": {
        "id": "PgzRTdGMUjdI",
        "colab_type": "code",
        "colab": {}
      },
      "source": [
        "messages_bow = bow_transformer.transform(data[\"paragraph\"])"
      ],
      "execution_count": 0,
      "outputs": []
    },
    {
      "cell_type": "code",
      "metadata": {
        "id": "XVrF5OWh2TFH",
        "colab_type": "code",
        "outputId": "66369ccf-549b-438d-ddd1-518bca24b442",
        "colab": {
          "base_uri": "https://localhost:8080/",
          "height": 34
        }
      },
      "source": [
        "type(messages_bow)"
      ],
      "execution_count": 0,
      "outputs": [
        {
          "output_type": "execute_result",
          "data": {
            "text/plain": [
              "scipy.sparse.csr.csr_matrix"
            ]
          },
          "metadata": {
            "tags": []
          },
          "execution_count": 21
        }
      ]
    },
    {
      "cell_type": "code",
      "metadata": {
        "id": "ITrUqmsDVDrd",
        "colab_type": "code",
        "outputId": "b0447d2f-5e9d-4589-e424-a7a5645adc95",
        "colab": {
          "base_uri": "https://localhost:8080/",
          "height": 51
        }
      },
      "source": [
        "print('Shape of Sparse Matrix: ', messages_bow.shape)\n",
        "print('Amount of Non-Zero occurences: ', messages_bow.nnz)"
      ],
      "execution_count": 0,
      "outputs": [
        {
          "output_type": "stream",
          "text": [
            "Shape of Sparse Matrix:  (8675, 1500)\n",
            "Amount of Non-Zero occurences:  2384568\n"
          ],
          "name": "stdout"
        }
      ]
    },
    {
      "cell_type": "code",
      "metadata": {
        "id": "pPigg9OgWTiN",
        "colab_type": "code",
        "colab": {}
      },
      "source": [
        "from sklearn.feature_extraction.text import TfidfTransformer\n",
        "tfidf_transformer = TfidfTransformer().fit(messages_bow)"
      ],
      "execution_count": 0,
      "outputs": []
    },
    {
      "cell_type": "code",
      "metadata": {
        "id": "_CK--IQWWhiP",
        "colab_type": "code",
        "colab": {}
      },
      "source": [
        "messages_tfidf = tfidf_transformer.transform(messages_bow).toarray()"
      ],
      "execution_count": 0,
      "outputs": []
    },
    {
      "cell_type": "code",
      "metadata": {
        "id": "4lrNipGiadEI",
        "colab_type": "code",
        "outputId": "b4ec3d28-ad34-4042-9c8b-5c85405060f9",
        "colab": {
          "base_uri": "https://localhost:8080/",
          "height": 34
        }
      },
      "source": [
        "print(len(messages_tfidf[0]))"
      ],
      "execution_count": 0,
      "outputs": [
        {
          "output_type": "stream",
          "text": [
            "1500\n"
          ],
          "name": "stdout"
        }
      ]
    },
    {
      "cell_type": "code",
      "metadata": {
        "id": "8M823IcQfviQ",
        "colab_type": "code",
        "colab": {}
      },
      "source": [
        "from sklearn.preprocessing import LabelEncoder\n",
        "le = LabelEncoder()\n",
        "data['la'] = le.fit_transform(data['type'])"
      ],
      "execution_count": 0,
      "outputs": []
    },
    {
      "cell_type": "code",
      "metadata": {
        "id": "EdljG4Urfytw",
        "colab_type": "code",
        "outputId": "572a687e-4c45-4439-d252-d377ae871cdb",
        "colab": {
          "base_uri": "https://localhost:8080/",
          "height": 238
        }
      },
      "source": [
        "data.head()"
      ],
      "execution_count": 0,
      "outputs": [
        {
          "output_type": "execute_result",
          "data": {
            "text/html": [
              "<div>\n",
              "<style scoped>\n",
              "    .dataframe tbody tr th:only-of-type {\n",
              "        vertical-align: middle;\n",
              "    }\n",
              "\n",
              "    .dataframe tbody tr th {\n",
              "        vertical-align: top;\n",
              "    }\n",
              "\n",
              "    .dataframe thead th {\n",
              "        text-align: right;\n",
              "    }\n",
              "</style>\n",
              "<table border=\"1\" class=\"dataframe\">\n",
              "  <thead>\n",
              "    <tr style=\"text-align: right;\">\n",
              "      <th></th>\n",
              "      <th>type</th>\n",
              "      <th>posts</th>\n",
              "      <th>list_messages</th>\n",
              "      <th>I-E</th>\n",
              "      <th>N-S</th>\n",
              "      <th>T-F</th>\n",
              "      <th>J-P</th>\n",
              "    </tr>\n",
              "  </thead>\n",
              "  <tbody>\n",
              "    <tr>\n",
              "      <th>0</th>\n",
              "      <td>INFJ</td>\n",
              "      <td>'http://www.youtube.com/watch?v=qsXHcwe3krw|||...</td>\n",
              "      <td>['http://www.youtube.com/watch?v=qsXHcwe3krw, ...</td>\n",
              "      <td>0</td>\n",
              "      <td>0</td>\n",
              "      <td>1</td>\n",
              "      <td>0</td>\n",
              "    </tr>\n",
              "    <tr>\n",
              "      <th>1</th>\n",
              "      <td>ENTP</td>\n",
              "      <td>'I'm finding the lack of me in these posts ver...</td>\n",
              "      <td>['I'm finding the lack of me in these posts ve...</td>\n",
              "      <td>1</td>\n",
              "      <td>0</td>\n",
              "      <td>0</td>\n",
              "      <td>1</td>\n",
              "    </tr>\n",
              "    <tr>\n",
              "      <th>2</th>\n",
              "      <td>INTP</td>\n",
              "      <td>'Good one  _____   https://www.youtube.com/wat...</td>\n",
              "      <td>['Good one  _____   https://www.youtube.com/wa...</td>\n",
              "      <td>0</td>\n",
              "      <td>0</td>\n",
              "      <td>0</td>\n",
              "      <td>1</td>\n",
              "    </tr>\n",
              "    <tr>\n",
              "      <th>3</th>\n",
              "      <td>INTJ</td>\n",
              "      <td>'Dear INTP,   I enjoyed our conversation the o...</td>\n",
              "      <td>['Dear INTP,   I enjoyed our conversation the ...</td>\n",
              "      <td>0</td>\n",
              "      <td>0</td>\n",
              "      <td>0</td>\n",
              "      <td>0</td>\n",
              "    </tr>\n",
              "    <tr>\n",
              "      <th>4</th>\n",
              "      <td>ENTJ</td>\n",
              "      <td>'You're fired.|||That's another silly misconce...</td>\n",
              "      <td>['You're fired., That's another silly misconce...</td>\n",
              "      <td>1</td>\n",
              "      <td>0</td>\n",
              "      <td>0</td>\n",
              "      <td>0</td>\n",
              "    </tr>\n",
              "  </tbody>\n",
              "</table>\n",
              "</div>"
            ],
            "text/plain": [
              "   type                                              posts  ... T-F  J-P\n",
              "0  INFJ  'http://www.youtube.com/watch?v=qsXHcwe3krw|||...  ...   1    0\n",
              "1  ENTP  'I'm finding the lack of me in these posts ver...  ...   0    1\n",
              "2  INTP  'Good one  _____   https://www.youtube.com/wat...  ...   0    1\n",
              "3  INTJ  'Dear INTP,   I enjoyed our conversation the o...  ...   0    0\n",
              "4  ENTJ  'You're fired.|||That's another silly misconce...  ...   0    0\n",
              "\n",
              "[5 rows x 7 columns]"
            ]
          },
          "metadata": {
            "tags": []
          },
          "execution_count": 62
        }
      ]
    },
    {
      "cell_type": "code",
      "metadata": {
        "id": "gqrz09U5bk7Y",
        "colab_type": "code",
        "outputId": "0fd129aa-a8f2-42b0-8b3d-95322b6d181f",
        "colab": {
          "base_uri": "https://localhost:8080/",
          "height": 54
        }
      },
      "source": [
        "\"\".join(data.list_messages[0])"
      ],
      "execution_count": 0,
      "outputs": [
        {
          "output_type": "execute_result",
          "data": {
            "text/plain": [
              "\"'http://www.youtube.com/watch?v=qsXHcwe3krwhttp://41.media.tumblr.com/tumblr_lfouy03PMA1qa1rooo1_500.jpgenfp and intj moments  https://www.youtube.com/watch?v=iz7lE1g4XM4  sportscenter not top ten plays  https://www.youtube.com/watch?v=uCdfze1etec  pranksWhat has been the most life-changing experience in your life?http://www.youtube.com/watch?v=vXZeYwwRDw8   http://www.youtube.com/watch?v=u8ejam5DP3E  On repeat for most of today.May the PerC Experience immerse you.The last thing my INFJ friend posted on his facebook before committing suicide the next day. Rest in peace~   http://vimeo.com/22842206Hello ENFJ7. Sorry to hear of your distress. It's only natural for a relationship to not be perfection all the time in every moment of existence. Try to figure the hard times as times of growth, as...84389  84390  http://wallpaperpassion.com/upload/23700/friendship-boy-and-girl-wallpaper.jpg  http://assets.dornob.com/wp-content/uploads/2010/04/round-home-design.jpg ...Welcome and stuff.http://playeressence.com/wp-content/uploads/2013/08/RED-red-the-pokemon-master-32560474-450-338.jpg  Game. Set. Match.Prozac, wellbrutin, at least thirty minutes of moving your legs (and I don't mean moving them while sitting in your same desk chair), weed in moderation (maybe try edibles as a healthier alternative...Basically come up with three items you've determined that each type (or whichever types you want to do) would more than likely use, given each types' cognitive functions and whatnot, when left by...All things in moderation.  Sims is indeed a video game, and a good one at that. Note: a good one at that is somewhat subjective in that I am not completely promoting the death of any given Sim...Dear ENFP:  What were your favorite video games growing up and what are your now, current favorite video games? :cool:https://www.youtube.com/watch?v=QyPqT8umzmYIt appears to be too late. :sad:There's someone out there for everyone.Wait... I thought confidence was a good thing.I just cherish the time of solitude b/c i revel within my inner world more whereas most other time i'd be workin... just enjoy the me time while you can. Don't worry, people will always be around to...Yo entp ladies... if you're into a complimentary personality,well, hey.... when your main social outlet is xbox live conversations and even then you verbally fatigue quickly.http://www.youtube.com/watch?v=gDhy7rdfm14  I really dig the part from 1:46 to 2:50http://www.youtube.com/watch?v=msqXffgh7b8Banned because this thread requires it of me.Get high in backyard, roast and eat marshmellows in backyard while conversing over something intellectual, followed by massages and kisses.http://www.youtube.com/watch?v=Mw7eoU3BMbEhttp://www.youtube.com/watch?v=4V2uYORhQOkhttp://www.youtube.com/watch?v=SlVmgFQQ0TIBanned for too many b's in that sentence. How could you! Think of the B!Banned for watching movies in the corner with the dunces.Banned because Health class clearly taught you nothing about peer pressure.Banned for a whole host of reasons!http://www.youtube.com/watch?v=IRcrv41hgz41) Two baby deer on left and right munching on a beetle in the middle.  2) Using their own blood, two cavemen diary today's latest happenings on their designated cave diary wall.  3) I see it as...a pokemon world  an infj society  everyone becomes an optimist49142http://www.youtube.com/watch?v=ZRCEq_JFeFMhttp://discovermagazine.com/2012/jul-aug/20-things-you-didnt-know-about-deserts/desert.jpghttp://oyster.ignimgs.com/mediawiki/apis.ign.com/pokemon-silver-version/d/dd/Ditto.gifhttp://www.serebii.net/potw-dp/Scizor.jpgNot all artists are artists because they draw. It's the idea that counts in forming something of your own... like a signature.Welcome to the robot ranks, person who downed my self-esteem cuz I'm not an avid signature artist like herself. :proud:Banned for taking all the room under my bed. Ya gotta learn to share with the roaches.http://www.youtube.com/watch?v=w8IgImn57aQBanned for being too much of a thundering, grumbling kind of storm... yep.Ahh... old high school music I haven't heard in ages.   http://www.youtube.com/watch?v=dcCRUPCdB1wI failed a public speaking class a few years ago and I've sort of learned what I could do better were I to be in that position again. A big part of my failure was just overloading myself with too...I like this person's mentality. He's a confirmed INTJ by the way. http://www.youtube.com/watch?v=hGKLI-GEc6MMove to the Denver area and start a new life for myself.'\""
            ]
          },
          "metadata": {
            "tags": []
          },
          "execution_count": 26
        }
      ]
    },
    {
      "cell_type": "code",
      "metadata": {
        "id": "rvMJ1g1na7b8",
        "colab_type": "code",
        "colab": {}
      },
      "source": [
        "labels_ie =data.iloc[:,3].values\n",
        "labels_ns =data.iloc[:,4].values\n",
        "labels_tf =data.iloc[:,5].values\n",
        "labels_jp =data.iloc[:,6].values\n",
        "labels=data.type.values"
      ],
      "execution_count": 0,
      "outputs": []
    },
    {
      "cell_type": "code",
      "metadata": {
        "id": "LgbZeliQh4IP",
        "colab_type": "code",
        "colab": {}
      },
      "source": [
        ""
      ],
      "execution_count": 0,
      "outputs": []
    },
    {
      "cell_type": "code",
      "metadata": {
        "id": "YAslrDG8bUgU",
        "colab_type": "code",
        "colab": {}
      },
      "source": [
        "from sklearn.model_selection import train_test_split\n",
        "features_train_ie, features_test_ie, labels_train_ie, labels_test_ie = train_test_split(messages_tfidf, labels_ie, test_size = 0.33, random_state = 7)\n",
        "\n",
        "from sklearn.model_selection import train_test_split\n",
        "features_train_ns, features_test_ns, labels_train_ns, labels_test_ns = train_test_split(messages_tfidf, labels_ns, test_size = 0.33, random_state = 7)\n",
        "\n",
        "from sklearn.model_selection import train_test_split\n",
        "features_train_tf, features_test_tf, labels_train_tf, labels_test_tf = train_test_split(messages_tfidf, labels_tf, test_size = 0.33, random_state = 7)\n",
        "\n",
        "from sklearn.model_selection import train_test_split\n",
        "features_train_jp, features_test_jp, labels_train_jp, labels_test_jp = train_test_split(messages_tfidf, labels_jp, test_size = 0.33, random_state = 7)"
      ],
      "execution_count": 0,
      "outputs": []
    },
    {
      "cell_type": "code",
      "metadata": {
        "id": "ETUzz_APtlvS",
        "colab_type": "code",
        "colab": {}
      },
      "source": [
        "from sklearn.model_selection import train_test_split\n",
        "features_train, features_test, labels_train, labels_test = train_test_split(messages_tfidf, labels, test_size = 0.33, random_state = 7)\n",
        "\n"
      ],
      "execution_count": 0,
      "outputs": []
    },
    {
      "cell_type": "code",
      "metadata": {
        "id": "Z1ctsciBh7n-",
        "colab_type": "code",
        "outputId": "e0b291ab-1592-4f08-935c-e559bcb4361d",
        "colab": {
          "base_uri": "https://localhost:8080/",
          "height": 51
        }
      },
      "source": [
        "print(features_train.shape)\n",
        "print(labels_train.shape)"
      ],
      "execution_count": 0,
      "outputs": [
        {
          "output_type": "stream",
          "text": [
            "(5812, 1500)\n",
            "(5812,)\n"
          ],
          "name": "stdout"
        }
      ]
    },
    {
      "cell_type": "code",
      "metadata": {
        "id": "oSnDEmVV_6nC",
        "colab_type": "code",
        "colab": {}
      },
      "source": [
        "from imblearn.over_sampling import SMOTE\n",
        "sm = SMOTE(random_state=2)\n",
        "features_train, labels_train = sm.fit_sample(features_train, labels_train.ravel())\n"
      ],
      "execution_count": 0,
      "outputs": []
    },
    {
      "cell_type": "markdown",
      "metadata": {
        "id": "b4e_y6mHgeJE",
        "colab_type": "text"
      },
      "source": [
        "Best: 0.354439 using {'batch_size': 20, 'epochs': 100}\n",
        "0.207330 (0.032416) with: {'batch_size': 10, 'epochs': 10}\n",
        "0.267206 (0.028298) with: {'batch_size': 10, 'epochs': 50}\n",
        "0.299209 (0.063069) with: {'batch_size': 10, 'epochs': 100}\n",
        "0.274260 (0.028318) with: {'batch_size': 20, 'epochs': 10}\n",
        "0.320716 (0.023497) with: {'batch_size': 20, 'epochs': 50}\n",
        "0.354439 (0.026660) with: {'batch_size': 20, 'epochs': 100}\n",
        "0.220234 (0.056856) with: {'batch_size': 40, 'epochs': 10}\n",
        "0.303166 (0.041684) with: {'batch_size': 40, 'epochs': 50}\n",
        "0.295767 (0.036351) with: {'batch_size': 40, 'epochs': 100}\n",
        "0.252065 (0.035863) with: {'batch_size': 60, 'epochs': 10}\n",
        "0.278906 (0.038507) with: {'batch_size': 60, 'epochs': 50}\n",
        "0.266518 (0.088261) with: {'batch_size': 60, 'epochs': 100}\n",
        "0.293014 (0.010425) with: {'batch_size': 80, 'epochs': 10}\n",
        "0.281315 (0.042188) with: {'batch_size': 80, 'epochs': 50}\n",
        "0.286992 (0.015178) with: {'batch_size': 80, 'epochs': 100}\n",
        "0.218513 (0.035049) with: {'batch_size': 100, 'epochs': 10}\n",
        "0.296628 (0.046451) with: {'batch_size': 100, 'epochs': 50}\n",
        "0.279594 (0.029543) with: {'batch_size': 100, 'epochs': 100}\n"
      ]
    },
    {
      "cell_type": "markdown",
      "metadata": {
        "id": "cGsQynLzgdIa",
        "colab_type": "text"
      },
      "source": [
        ""
      ]
    },
    {
      "cell_type": "code",
      "metadata": {
        "id": "0RL5MSpoeYNy",
        "colab_type": "code",
        "outputId": "91656442-f462-4b4d-eae4-831a8997664d",
        "colab": {
          "base_uri": "https://localhost:8080/",
          "height": 34
        }
      },
      "source": [
        ""
      ],
      "execution_count": 0,
      "outputs": [
        {
          "output_type": "stream",
          "text": [
            "Using TensorFlow backend.\n"
          ],
          "name": "stderr"
        }
      ]
    },
    {
      "cell_type": "code",
      "metadata": {
        "id": "ZspbhdCii5DU",
        "colab_type": "code",
        "outputId": "2282c1d5-1bd4-4d9d-9549-679c9f7cb859",
        "colab": {
          "base_uri": "https://localhost:8080/",
          "height": 146
        }
      },
      "source": [
        ""
      ],
      "execution_count": 0,
      "outputs": [
        {
          "output_type": "stream",
          "text": [
            "/usr/local/lib/python3.6/dist-packages/sklearn/svm/base.py:193: FutureWarning: The default value of gamma will change from 'auto' to 'scale' in version 0.22 to account better for unscaled features. Set gamma explicitly to 'auto' or 'scale' to avoid this warning.\n",
            "  \"avoid this warning.\", FutureWarning)\n"
          ],
          "name": "stderr"
        },
        {
          "output_type": "execute_result",
          "data": {
            "text/plain": [
              "SVC(C=1.0, cache_size=200, class_weight=None, coef0=0.0,\n",
              "    decision_function_shape='ovr', degree=3, gamma='auto_deprecated',\n",
              "    kernel='rbf', max_iter=-1, probability=False, random_state=0,\n",
              "    shrinking=True, tol=0.001, verbose=False)"
            ]
          },
          "metadata": {
            "tags": []
          },
          "execution_count": 25
        }
      ]
    },
    {
      "cell_type": "code",
      "metadata": {
        "id": "sWnVfsIes1FU",
        "colab_type": "code",
        "outputId": "61429875-b7c5-4740-8499-46672ff10f7a",
        "colab": {
          "base_uri": "https://localhost:8080/",
          "height": 35
        }
      },
      "source": [
        ""
      ],
      "execution_count": 0,
      "outputs": [
        {
          "output_type": "execute_result",
          "data": {
            "text/plain": [
              "0.4069158225637443"
            ]
          },
          "metadata": {
            "tags": []
          },
          "execution_count": 26
        }
      ]
    },
    {
      "cell_type": "code",
      "metadata": {
        "id": "i-DeY9qTkS9z",
        "colab_type": "code",
        "colab": {}
      },
      "source": [
        "import xgboost\n",
        "classifier_ie = xgboost.XGBClassifier()\n",
        "classifier_ns = xgboost.XGBClassifier()\n",
        "classifier_tf = xgboost.XGBClassifier()\n",
        "classifier_jp = xgboost.XGBClassifier()\n",
        "classifier = xgboost.XGBClassifier()\n"
      ],
      "execution_count": 0,
      "outputs": []
    },
    {
      "cell_type": "code",
      "metadata": {
        "id": "nA_cijxnuHHD",
        "colab_type": "code",
        "outputId": "e0ffd5b0-34fe-459e-ad5d-ce930d017af1",
        "colab": {
          "base_uri": "https://localhost:8080/",
          "height": 136
        }
      },
      "source": [
        "classifier = xgboost.XGBClassifier()\n",
        "classifier.fit(features_train, labels_train)"
      ],
      "execution_count": 0,
      "outputs": [
        {
          "output_type": "execute_result",
          "data": {
            "text/plain": [
              "XGBClassifier(base_score=0.5, booster='gbtree', colsample_bylevel=1,\n",
              "              colsample_bynode=1, colsample_bytree=1, gamma=0,\n",
              "              learning_rate=0.1, max_delta_step=0, max_depth=3,\n",
              "              min_child_weight=1, missing=None, n_estimators=100, n_jobs=1,\n",
              "              nthread=None, objective='multi:softprob', random_state=0,\n",
              "              reg_alpha=0, reg_lambda=1, scale_pos_weight=1, seed=None,\n",
              "              silent=None, subsample=1, verbosity=1)"
            ]
          },
          "metadata": {
            "tags": []
          },
          "execution_count": 34
        }
      ]
    },
    {
      "cell_type": "code",
      "metadata": {
        "id": "yQpiDIw0EiII",
        "colab_type": "code",
        "colab": {}
      },
      "source": [
        "classifier_ie.fit(features_train_ie, labels_train_ie)"
      ],
      "execution_count": 0,
      "outputs": []
    },
    {
      "cell_type": "code",
      "metadata": {
        "id": "Y5h2Q4PDSy59",
        "colab_type": "code",
        "outputId": "439400e4-7391-4068-ded3-0900df5baa02",
        "colab": {
          "base_uri": "https://localhost:8080/",
          "height": 136
        }
      },
      "source": [
        "classifier_ns.fit(features_train_ns, labels_train_ns)"
      ],
      "execution_count": 0,
      "outputs": [
        {
          "output_type": "execute_result",
          "data": {
            "text/plain": [
              "XGBClassifier(base_score=0.5, booster='gbtree', colsample_bylevel=1,\n",
              "              colsample_bynode=1, colsample_bytree=1, gamma=0,\n",
              "              learning_rate=0.1, max_delta_step=0, max_depth=3,\n",
              "              min_child_weight=1, missing=None, n_estimators=100, n_jobs=1,\n",
              "              nthread=None, objective='binary:logistic', random_state=0,\n",
              "              reg_alpha=0, reg_lambda=1, scale_pos_weight=1, seed=None,\n",
              "              silent=None, subsample=1, verbosity=1)"
            ]
          },
          "metadata": {
            "tags": []
          },
          "execution_count": 71
        }
      ]
    },
    {
      "cell_type": "code",
      "metadata": {
        "id": "hKcfQOaISyJO",
        "colab_type": "code",
        "outputId": "d90a14d6-1101-4bef-f036-3123252e9771",
        "colab": {
          "base_uri": "https://localhost:8080/",
          "height": 136
        }
      },
      "source": [
        "classifier_tf.fit(features_train_tf, labels_train_tf)"
      ],
      "execution_count": 0,
      "outputs": [
        {
          "output_type": "execute_result",
          "data": {
            "text/plain": [
              "XGBClassifier(base_score=0.5, booster='gbtree', colsample_bylevel=1,\n",
              "              colsample_bynode=1, colsample_bytree=1, gamma=0,\n",
              "              learning_rate=0.1, max_delta_step=0, max_depth=3,\n",
              "              min_child_weight=1, missing=None, n_estimators=100, n_jobs=1,\n",
              "              nthread=None, objective='binary:logistic', random_state=0,\n",
              "              reg_alpha=0, reg_lambda=1, scale_pos_weight=1, seed=None,\n",
              "              silent=None, subsample=1, verbosity=1)"
            ]
          },
          "metadata": {
            "tags": []
          },
          "execution_count": 72
        }
      ]
    },
    {
      "cell_type": "code",
      "metadata": {
        "id": "aBUDBGiaSxVS",
        "colab_type": "code",
        "outputId": "21f98db9-35ea-42a4-e3d4-bc107ee62d02",
        "colab": {
          "base_uri": "https://localhost:8080/",
          "height": 136
        }
      },
      "source": [
        "classifier_jp.fit(features_train_jp, labels_train_jp)"
      ],
      "execution_count": 0,
      "outputs": [
        {
          "output_type": "execute_result",
          "data": {
            "text/plain": [
              "XGBClassifier(base_score=0.5, booster='gbtree', colsample_bylevel=1,\n",
              "              colsample_bynode=1, colsample_bytree=1, gamma=0,\n",
              "              learning_rate=0.1, max_delta_step=0, max_depth=3,\n",
              "              min_child_weight=1, missing=None, n_estimators=100, n_jobs=1,\n",
              "              nthread=None, objective='binary:logistic', random_state=0,\n",
              "              reg_alpha=0, reg_lambda=1, scale_pos_weight=1, seed=None,\n",
              "              silent=None, subsample=1, verbosity=1)"
            ]
          },
          "metadata": {
            "tags": []
          },
          "execution_count": 73
        }
      ]
    },
    {
      "cell_type": "code",
      "metadata": {
        "id": "aHnlkj_b6TSf",
        "colab_type": "code",
        "outputId": "f48dc9da-0837-415d-802e-deeca97797fd",
        "colab": {
          "base_uri": "https://localhost:8080/",
          "height": 34
        }
      },
      "source": [
        "classifier.score(features_test, labels_test)"
      ],
      "execution_count": 0,
      "outputs": [
        {
          "output_type": "execute_result",
          "data": {
            "text/plain": [
              "0.25008732099196646"
            ]
          },
          "metadata": {
            "tags": []
          },
          "execution_count": 85
        }
      ]
    },
    {
      "cell_type": "code",
      "metadata": {
        "id": "X9DmznujUrWN",
        "colab_type": "code",
        "outputId": "18344609-7f32-4866-ca00-437da28ea377",
        "colab": {
          "base_uri": "https://localhost:8080/",
          "height": 35
        }
      },
      "source": [
        ""
      ],
      "execution_count": 0,
      "outputs": [
        {
          "output_type": "execute_result",
          "data": {
            "text/plain": [
              "0.9010416666666666"
            ]
          },
          "metadata": {
            "tags": []
          },
          "execution_count": 33
        }
      ]
    },
    {
      "cell_type": "code",
      "metadata": {
        "id": "yCEvMshXJFbe",
        "colab_type": "code",
        "colab": {}
      },
      "source": [
        "labels_pred = classifier_jp.predict(features_test_jp)"
      ],
      "execution_count": 0,
      "outputs": []
    },
    {
      "cell_type": "code",
      "metadata": {
        "id": "im4zGMbM_Vv4",
        "colab_type": "code",
        "colab": {}
      },
      "source": [
        "from sklearn.metrics import accuracy_score\n",
        "accuracy=accuracy_score(labels_test_jp,labels_pred)"
      ],
      "execution_count": 0,
      "outputs": []
    },
    {
      "cell_type": "code",
      "metadata": {
        "colab_type": "code",
        "outputId": "9efc0539-96de-4d4b-eaec-53efa444109f",
        "id": "-PXXiSbf_7lM",
        "colab": {
          "base_uri": "https://localhost:8080/",
          "height": 34
        }
      },
      "source": [
        "accuracy"
      ],
      "execution_count": 0,
      "outputs": [
        {
          "output_type": "execute_result",
          "data": {
            "text/plain": [
              "0.6206776108976598"
            ]
          },
          "metadata": {
            "tags": []
          },
          "execution_count": 80
        }
      ]
    },
    {
      "cell_type": "code",
      "metadata": {
        "id": "yixGA-7UOT5m",
        "colab_type": "code",
        "colab": {}
      },
      "source": [
        "from sklearn.model_selection import GridSearchCV\n",
        "from sklearn.linear_model import LogisticRegression\n",
        "\n",
        "parameters = {\n",
        "    'C': np.linspace(1, 10, 10)\n",
        "             }\n",
        "lr = LogisticRegression()\n",
        "\n",
        "clf = GridSearchCV(lr, parameters, cv=5, verbose=5, n_jobs=3)\n",
        "clf.fit(features_train, labels_train.ravel())"
      ],
      "execution_count": 0,
      "outputs": []
    },
    {
      "cell_type": "code",
      "metadata": {
        "id": "fDOB5T5_UJpn",
        "colab_type": "code",
        "outputId": "bcb187ed-4f04-442d-fc4b-48b7552f6675",
        "colab": {
          "base_uri": "https://localhost:8080/",
          "height": 35
        }
      },
      "source": [
        "clf.score(features_test,labels_test)"
      ],
      "execution_count": 0,
      "outputs": [
        {
          "output_type": "execute_result",
          "data": {
            "text/plain": [
              "0.46245197345441846"
            ]
          },
          "metadata": {
            "tags": []
          },
          "execution_count": 89
        }
      ]
    },
    {
      "cell_type": "code",
      "metadata": {
        "id": "fIYZjQm_c6yB",
        "colab_type": "code",
        "colab": {}
      },
      "source": [
        ""
      ],
      "execution_count": 0,
      "outputs": []
    },
    {
      "cell_type": "code",
      "metadata": {
        "id": "xDWRGth1zceA",
        "colab_type": "code",
        "colab": {}
      },
      "source": [
        ""
      ],
      "execution_count": 0,
      "outputs": []
    },
    {
      "cell_type": "code",
      "metadata": {
        "id": "N53jrLGxMPWZ",
        "colab_type": "code",
        "colab": {}
      },
      "source": [
        "import string\n",
        "def prediction_string(pred_string):\n",
        "  res=\"\"\n",
        "  if \"http\" in pred_string:\n",
        "    l=re.findall(r\"\\b(?:https?://)?(?:(?i:[1-9a-z]+\\.))[^\\s,]+\\b\",pred_string)\n",
        "    for link in l:\n",
        "      message=pred_string.replace(link,\"\")\n",
        "    res=res+\" \"+pred_string.strip()\n",
        "  else:\n",
        "    res=res+pred_string.strip()\n",
        "  res=re.sub('[^a-zA-Z\\s]',\" \",res)\n",
        "  res=res.lower()\n",
        "  res=res.split()\n",
        "  res = [word for word in res if not word in list_stopwords]\n",
        "  wl = PorterStemmer()\n",
        "  res = [wl.stem(word) for word in res]\n",
        "  res=\" \".join(res)\n",
        "  nopunc = [char for char in res if char not in string.punctuation]\n",
        "  nopunc = ''.join(nopunc)\n",
        "  a=tfidf_transformer.transform(bow_transformer.transform([nopunc]))\n",
        "  return a\n",
        "  \n",
        "  \n",
        "    \n",
        "  "
      ],
      "execution_count": 0,
      "outputs": []
    },
    {
      "cell_type": "code",
      "metadata": {
        "id": "Q1U67H17OmZO",
        "colab_type": "code",
        "outputId": "3b406731-a174-4b96-ff19-9960f937e021",
        "colab": {
          "base_uri": "https://localhost:8080/",
          "height": 55
        }
      },
      "source": [
        "a=\"facerol everi singl time someon say get better ye mayb got better mean alway get better reason hear peopl say get better shinji evangelion hrm big secret realli call intellig wise creativ think world stupid sub par thing said insan realli must one two never realli experienc call high high probabl good health ehh like whole point suicid end life want want end live want elimin bad enjoy live enough go well never realli impli suicid anyth wonder correl depresson suicid well yeah alreadi got answer well say agr subconsci want get better get wor actual know know pretti mess head haha like mental thank haha hmm interest yeash would cool\"\n",
        "\n",
        "\n"
      ],
      "execution_count": 0,
      "outputs": [
        {
          "output_type": "execute_result",
          "data": {
            "text/plain": [
              "'facerol everi singl time someon say get better ye mayb got better mean alway get better reason hear peopl say get better shinji evangelion hrm big secret realli call intellig wise creativ think world stupid sub par thing said insan realli must one two never realli experienc call high high probabl good health ehh like whole point suicid end life want want end live want elimin bad enjoy live enough go well never realli impli suicid anyth wonder correl depresson suicid well yeah alreadi got answer well say agr subconsci want get better get wor actual know know pretti mess head haha like mental thank haha hmm interest yeash would cool'"
            ]
          },
          "metadata": {
            "tags": []
          },
          "execution_count": 35
        }
      ]
    },
    {
      "cell_type": "code",
      "metadata": {
        "id": "TkR7VV_cVVzV",
        "colab_type": "code",
        "outputId": "919f10b7-5b65-472a-f45d-7a4bc697724c",
        "colab": {
          "base_uri": "https://localhost:8080/",
          "height": 55
        }
      },
      "source": [
        "[b]"
      ],
      "execution_count": 0,
      "outputs": [
        {
          "output_type": "execute_result",
          "data": {
            "text/plain": [
              "['facerol everi singl time someon say get better ye mayb got better mean alway get better reason hear peopl say get better shinji evangelion hrm big secret realli call intellig wise creativ think world stupid sub par thing said insan realli must one two never realli experienc call high high probabl good health ehh like whole point suicid end life want want end live want elimin bad enjoy live enough go well never realli impli suicid anyth wonder correl depresson suicid well yeah alreadi got answer well say agr subconsci want get better get wor actual know know pretti mess head haha like mental thank haha hmm interest yeash would cool']"
            ]
          },
          "metadata": {
            "tags": []
          },
          "execution_count": 42
        }
      ]
    },
    {
      "cell_type": "code",
      "metadata": {
        "id": "ov48rS48vqkq",
        "colab_type": "code",
        "outputId": "1e3bfb6a-550e-40e3-ed11-e0a20b876cd2",
        "colab": {
          "base_uri": "https://localhost:8080/",
          "height": 35
        }
      },
      "source": [
        "\n",
        "print(classifier1.predict(tfidf_transformer.transform(bow_transformer.transform([prediction_string(a)])).toarray()))"
      ],
      "execution_count": 0,
      "outputs": [
        {
          "output_type": "stream",
          "text": [
            "['INFP']\n"
          ],
          "name": "stdout"
        }
      ]
    },
    {
      "cell_type": "code",
      "metadata": {
        "id": "-Ihh3kuTgbTT",
        "colab_type": "code",
        "outputId": "34c681ea-0064-4173-add3-b71db7c9aa2c",
        "colab": {
          "base_uri": "https://localhost:8080/",
          "height": 145
        }
      },
      "source": [
        "classifier1"
      ],
      "execution_count": 0,
      "outputs": [
        {
          "output_type": "execute_result",
          "data": {
            "text/plain": [
              "XGBClassifier(base_score=0.5, booster='gbtree', colsample_bylevel=1,\n",
              "              colsample_bynode=1, colsample_bytree=1, gamma=0,\n",
              "              learning_rate=0.1, max_delta_step=0, max_depth=3,\n",
              "              min_child_weight=1, missing=None, n_estimators=100, n_jobs=1,\n",
              "              nthread=None, objective='multi:softprob', random_state=0,\n",
              "              reg_alpha=0, reg_lambda=1, scale_pos_weight=1, seed=None,\n",
              "              silent=None, subsample=1, verbosity=1)"
            ]
          },
          "metadata": {
            "tags": []
          },
          "execution_count": 59
        }
      ]
    },
    {
      "cell_type": "code",
      "metadata": {
        "id": "76KcP3lyU6lz",
        "colab_type": "code",
        "colab": {}
      },
      "source": [
        "predict1=tfidf_transformer.transform(bow_transformer.transform([prediction_string(a)]))"
      ],
      "execution_count": 0,
      "outputs": []
    },
    {
      "cell_type": "code",
      "metadata": {
        "id": "mUFbEuOvrKaX",
        "colab_type": "code",
        "outputId": "ea352892-14a3-4a7f-d2d4-c814635bb4fc",
        "colab": {
          "base_uri": "https://localhost:8080/",
          "height": 35
        }
      },
      "source": [
        "predict1.shape"
      ],
      "execution_count": 0,
      "outputs": [
        {
          "output_type": "execute_result",
          "data": {
            "text/plain": [
              "(1, 1500)"
            ]
          },
          "metadata": {
            "tags": []
          },
          "execution_count": 71
        }
      ]
    },
    {
      "cell_type": "code",
      "metadata": {
        "id": "EzVAIaID79zW",
        "colab_type": "code",
        "colab": {}
      },
      "source": [
        "import pickle\n",
        "\n",
        "\n",
        "project_pickle=\"newpickle_all.sav\"\n",
        "\n",
        "list_objects=[bow_transformer,classifier_ie,classifier_ns,classifier_tf,classifier_jp]\n",
        "\n",
        "pickle.dump(list_objects,open(project_pickle,\"wb\"))"
      ],
      "execution_count": 0,
      "outputs": []
    },
    {
      "cell_type": "code",
      "metadata": {
        "id": "_r34ZKu68WCM",
        "colab_type": "code",
        "colab": {}
      },
      "source": [
        "import pickle\n",
        "loded_model = pickle.load(open(\"newpickle.sav\",'rb'))\n"
      ],
      "execution_count": 0,
      "outputs": []
    },
    {
      "cell_type": "code",
      "metadata": {
        "id": "oAkNkwUb2KTv",
        "colab_type": "code",
        "outputId": "f2fd160c-2d78-4b17-e40a-1520d62e06c2",
        "colab": {
          "base_uri": "https://localhost:8080/",
          "height": 595
        }
      },
      "source": [
        ""
      ],
      "execution_count": 0,
      "outputs": [
        {
          "output_type": "execute_result",
          "data": {
            "text/plain": [
              "[CountVectorizer(analyzer='word', binary=False, decode_error='strict',\n",
              "                 dtype=<class 'numpy.int64'>, encoding='utf-8', input='content',\n",
              "                 lowercase=True, max_df=1.0, max_features=1500, min_df=1,\n",
              "                 ngram_range=(1, 1), preprocessor=None, stop_words=None,\n",
              "                 strip_accents=None, token_pattern='(?u)\\\\b\\\\w\\\\w+\\\\b',\n",
              "                 tokenizer=None, vocabulary=None),\n",
              " XGBClassifier(base_score=0.5, booster='gbtree', colsample_bylevel=1,\n",
              "               colsample_bynode=1, colsample_bytree=1, gamma=0,\n",
              "               learning_rate=0.1, max_delta_step=0, max_depth=3,\n",
              "               min_child_weight=1, missing=nan, n_estimators=100, n_jobs=1,\n",
              "               nthread=None, objective='binary:logistic', random_state=0,\n",
              "               reg_alpha=0, reg_lambda=1, scale_pos_weight=1, seed=None,\n",
              "               silent=None, subsample=1, verbosity=1),\n",
              " XGBClassifier(base_score=0.5, booster='gbtree', colsample_bylevel=1,\n",
              "               colsample_bynode=1, colsample_bytree=1, gamma=0,\n",
              "               learning_rate=0.1, max_delta_step=0, max_depth=3,\n",
              "               min_child_weight=1, missing=nan, n_estimators=100, n_jobs=1,\n",
              "               nthread=None, objective='binary:logistic', random_state=0,\n",
              "               reg_alpha=0, reg_lambda=1, scale_pos_weight=1, seed=None,\n",
              "               silent=None, subsample=1, verbosity=1),\n",
              " XGBClassifier(base_score=0.5, booster='gbtree', colsample_bylevel=1,\n",
              "               colsample_bynode=1, colsample_bytree=1, gamma=0,\n",
              "               learning_rate=0.1, max_delta_step=0, max_depth=3,\n",
              "               min_child_weight=1, missing=nan, n_estimators=100, n_jobs=1,\n",
              "               nthread=None, objective='binary:logistic', random_state=0,\n",
              "               reg_alpha=0, reg_lambda=1, scale_pos_weight=1, seed=None,\n",
              "               silent=None, subsample=1, verbosity=1),\n",
              " XGBClassifier(base_score=0.5, booster='gbtree', colsample_bylevel=1,\n",
              "               colsample_bynode=1, colsample_bytree=1, gamma=0,\n",
              "               learning_rate=0.1, max_delta_step=0, max_depth=3,\n",
              "               min_child_weight=1, missing=nan, n_estimators=100, n_jobs=1,\n",
              "               nthread=None, objective='binary:logistic', random_state=0,\n",
              "               reg_alpha=0, reg_lambda=1, scale_pos_weight=1, seed=None,\n",
              "               silent=None, subsample=1, verbosity=1)]"
            ]
          },
          "metadata": {
            "tags": []
          },
          "execution_count": 37
        }
      ]
    },
    {
      "cell_type": "code",
      "metadata": {
        "id": "3Bayuy8M2NUC",
        "colab_type": "code",
        "colab": {}
      },
      "source": [
        ""
      ],
      "execution_count": 0,
      "outputs": []
    }
  ]
}